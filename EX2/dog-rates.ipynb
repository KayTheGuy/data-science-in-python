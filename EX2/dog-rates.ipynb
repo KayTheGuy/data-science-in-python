{
 "cells": [
  {
   "cell_type": "code",
   "execution_count": null,
   "metadata": {
    "collapsed": true
   },
   "outputs": [],
   "source": [
    "import pandas as pd\n",
    "import numpy as np\n",
    "import re\n",
    "import datetime\n",
    "import matplotlib.pyplot as plt\n",
    "from scipy import stats"
   ]
  },
  {
   "cell_type": "markdown",
   "metadata": {},
   "source": [
    "## Load Data"
   ]
  },
  {
   "cell_type": "code",
   "execution_count": null,
   "metadata": {
    "collapsed": false
   },
   "outputs": [],
   "source": [
    "# set id as index and make 'create_at' a Datetime object\n",
    "data = pd.read_csv('dog_rates_tweets.csv', parse_dates=[1]).set_index(keys=['id']) "
   ]
  },
  {
   "cell_type": "markdown",
   "metadata": {},
   "source": [
    "## Filter Data"
   ]
  },
  {
   "cell_type": "code",
   "execution_count": null,
   "metadata": {
    "collapsed": false
   },
   "outputs": [],
   "source": [
    "# retrieve rate from tweet. return None if not found or rate over 20\n",
    "def findRating(s):\n",
    "    match = re.search(r'(\\d+(\\.\\d+)?)/10', s)\n",
    "    if match:\n",
    "        rate = match.groups(1)[0] # retrieve rate\n",
    "        #filter ratings: mark rating as None if greater than 20\n",
    "        if float(rate) > 20:\n",
    "            return None\n",
    "        else:\n",
    "            return rate\n",
    "    else:\n",
    "        return None\n",
    "    \n",
    "# vectorize findRating\n",
    "findRating = np.vectorize(findRating, otypes=[np.float])\n",
    "\n",
    "# get rates from text\n",
    "data['rate'] = findRating(data['text'])\n",
    "\n",
    "# exclude outliers and texts with no ratings\n",
    "data = data[pd.notnull(data['rate'])]"
   ]
  },
  {
   "cell_type": "markdown",
   "metadata": {
    "collapsed": true
   },
   "source": [
    "## Prepare for Linear Fitting"
   ]
  },
  {
   "cell_type": "code",
   "execution_count": null,
   "metadata": {
    "collapsed": false
   },
   "outputs": [],
   "source": [
    "# helper function to retreive Timestamp of Datetime objects before using <scipy.stats.linregress>\n",
    "# return None if argument is not Datetime object\n",
    "def to_timestamp(dt):\n",
    "    # check if argument is Datetime object\n",
    "    if isinstance(dt, datetime.datetime):\n",
    "        return dt.timestamp()\n",
    "    else:\n",
    "        return None\n",
    "\n",
    "data['timestamp'] = data['created_at'].apply(to_timestamp)"
   ]
  },
  {
   "cell_type": "markdown",
   "metadata": {},
   "source": [
    "## Linear Fitting"
   ]
  },
  {
   "cell_type": "code",
   "execution_count": null,
   "metadata": {
    "collapsed": true
   },
   "outputs": [],
   "source": [
    "slope, intercept, r_value, p_value, std_err = stats.linregress(data['timestamp'],data['rate'])"
   ]
  },
  {
   "cell_type": "markdown",
   "metadata": {},
   "source": [
    "## Data, slope and intercept of the best-fit line, and a scatterplot with fit line"
   ]
  },
  {
   "cell_type": "code",
   "execution_count": null,
   "metadata": {
    "collapsed": false
   },
   "outputs": [],
   "source": [
    "data"
   ]
  },
  {
   "cell_type": "code",
   "execution_count": null,
   "metadata": {
    "collapsed": false
   },
   "outputs": [],
   "source": [
    "slope, intercept"
   ]
  },
  {
   "cell_type": "code",
   "execution_count": null,
   "metadata": {
    "collapsed": false
   },
   "outputs": [],
   "source": [
    "plt.xticks(rotation=25)\n",
    "plt.plot(data['created_at'],data['rate'], 'b.', alpha=0.5)\n",
    "plt.plot(data['created_at'],data['timestamp']*slope + intercept, 'r-', linewidth=3)\n",
    "plt.show()"
   ]
  },
  {
   "cell_type": "markdown",
   "metadata": {},
   "source": [
    "## End"
   ]
  }
 ],
 "metadata": {
  "kernelspec": {
   "display_name": "Python 3",
   "language": "python",
   "name": "python3"
  },
  "language_info": {
   "codemirror_mode": {
    "name": "ipython",
    "version": 3
   },
   "file_extension": ".py",
   "mimetype": "text/x-python",
   "name": "python",
   "nbconvert_exporter": "python",
   "pygments_lexer": "ipython3",
   "version": "3.6.0"
  }
 },
 "nbformat": 4,
 "nbformat_minor": 2
}
